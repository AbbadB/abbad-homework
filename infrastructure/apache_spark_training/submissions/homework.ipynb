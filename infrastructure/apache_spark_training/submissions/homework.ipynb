{
 "cells": [
  {
   "cell_type": "markdown",
   "id": "3ad63c79-0cd2-40c2-912b-92d53d756f6b",
   "metadata": {},
   "source": [
    "### Setting Up Environment"
   ]
  },
  {
   "cell_type": "code",
   "execution_count": null,
   "id": "b9fe4ed8-11df-44c5-abc7-3eebc7be4f55",
   "metadata": {},
   "outputs": [],
   "source": [
    "import os\n",
    "\n",
    "from pyspark.sql import SparkSession\n",
    "from pyspark.sql.functions import expr, col"
   ]
  },
  {
   "cell_type": "code",
   "execution_count": null,
   "id": "e9eaf3be-dc2a-4082-8450-9321362776b7",
   "metadata": {},
   "outputs": [],
   "source": [
    "%env DATA_ENGINEER_IO_WAREHOUSE_CREDENTIAL=t-v9t2--SpkvM:ZaduIIiKlUgXIoCxiXWL8pe5F8M \n",
    "\n",
    "%env DATA_ENGINEER_IO_WAREHOUSE=eczachly-academy-warehouse"
   ]
  },
  {
   "cell_type": "code",
   "execution_count": null,
   "id": "e05989b5-9a53-4bf7-917b-c4056a39ac0c",
   "metadata": {},
   "outputs": [],
   "source": [
    "schema = 'abbad'\n",
    "if not os.environ['DATA_ENGINEER_IO_WAREHOUSE_CREDENTIAL'] or not os.environ['DATA_ENGINEER_IO_WAREHOUSE']:\n",
    "    raise ValueError(\"\"\"You need to set environment variables:\n",
    "                DATA_ENGINEER_IO_WAREHOUSE_CREDENTIAL, \n",
    "                DATA_ENGINEER_IO_WAREHOUSE to run this PySpark job!\n",
    "    \"\"\")"
   ]
  },
  {
   "cell_type": "code",
   "execution_count": null,
   "id": "87038e88-97af-4132-bba5-821edae3d4d6",
   "metadata": {},
   "outputs": [],
   "source": [
    "spark = SparkSession.builder \\\n",
    "        .appName(\"abbadSession\") \\\n",
    "        .config(\"spark.driver.memory\", \"6g\") \\\n",
    "        .config(\"spark.sql.extensions\",\n",
    "                \"org.apache.iceberg.spark.extensions.IcebergSparkSessionExtensions\") \\\n",
    "        .config(\"spark.sql.defaultCatalog\", os.environ['DATA_ENGINEER_IO_WAREHOUSE']) \\\n",
    "        .config(\"spark.sql.catalog.eczachly-academy-warehouse\",\n",
    "                \"org.apache.iceberg.spark.SparkCatalog\") \\\n",
    "        .config(\"spark.sql.catalog.eczachly-academy-warehouse.catalog-impl\",\n",
    "                \"org.apache.iceberg.rest.RESTCatalog\") \\\n",
    "        .config(\"spark.sql.catalog.eczachly-academy-warehouse.uri\",\n",
    "                \"https://api.tabular.io/ws/\") \\\n",
    "        .config(\"spark.sql.catalog.eczachly-academy-warehouse.credential\",\n",
    "                os.environ['DATA_ENGINEER_IO_WAREHOUSE_CREDENTIAL']) \\\n",
    "        .config(\"spark.sql.catalog.eczachly-academy-warehouse.warehouse\",\n",
    "                os.environ['DATA_ENGINEER_IO_WAREHOUSE']) \\\n",
    "        .getOrCreate()"
   ]
  },
  {
   "cell_type": "markdown",
   "id": "b0c1f205-a30c-4b91-a765-7699cb0e6d37",
   "metadata": {},
   "source": [
    "# Query 1\n",
    "\n",
    "disable the default behavior of broadcast joins"
   ]
  },
  {
   "cell_type": "code",
   "execution_count": null,
   "id": "ae8cf477-17d7-4a4b-81e8-6d4ea75ba176",
   "metadata": {},
   "outputs": [],
   "source": [
    "spark.conf.set(\"spark.sql.autoBroadcastJoinThreshold\", \"-1\")"
   ]
  },
  {
   "cell_type": "markdown",
   "id": "79b5ab83-09bd-41eb-980f-0325a28b20fb",
   "metadata": {},
   "source": [
    "# Query 2\n",
    "\n",
    "join the `medals` and `maps` tables with an explicitly specified a broadcast join"
   ]
  },
  {
   "cell_type": "code",
   "execution_count": null,
   "id": "bcd4377a-43ce-4f69-a422-d11ac15e9583",
   "metadata": {},
   "outputs": [],
   "source": [
    "from pyspark.sql.functions import broadcast, lit, col, date_format"
   ]
  },
  {
   "cell_type": "markdown",
   "id": "2218a455-c0e7-474f-a6e7-e1d83e892c1c",
   "metadata": {},
   "source": [
    "### Medals Broadcast Join"
   ]
  },
  {
   "cell_type": "code",
   "execution_count": null,
   "id": "1542d19a-e578-41e4-8c76-09f7340dd551",
   "metadata": {},
   "outputs": [],
   "source": [
    "medalsBucketed = spark.read.option(\"header\", \"true\") \\\n",
    "                        .option(\"inferSchema\", \"true\") \\\n",
    "                        .csv(\"/home/iceberg/data/medals.csv\")\n",
    "\n",
    "spark.sql(\"\"\"DROP TABLE IF EXISTS abbad.medals_bucketed\"\"\")\n",
    "\n",
    "bucketedDDL = \"\"\"\n",
    " CREATE TABLE IF NOT EXISTS abbad.medals_bucketed (\n",
    "    medal_id STRING,\n",
    "    classification STRING,\n",
    "     name STRING,\n",
    "     difficulty INTEGER\n",
    " )\n",
    " USING iceberg\n",
    " PARTITIONED BY (difficulty, bucket(16, medal_id));\n",
    " \"\"\"\n",
    "spark.sql(bucketedDDL)\n",
    "\n",
    "medalsBucketed.select(\n",
    "     col(\"medal_id\"), col(\"classification\"), col(\"name\"), col(\"difficulty\")).show()\n",
    "\n",
    "medalsBucketed.select(\n",
    "     col(\"medal_id\"), col(\"classification\"), col(\"name\"), col(\"difficulty\")\n",
    "     ) \\\n",
    "     .write.mode(\"append\")  \\\n",
    "     .partitionBy(\"difficulty\") \\\n",
    "     .bucketBy(16, \"medal_id\").saveAsTable(\"abbad.medals_bucketed\")"
   ]
  },
  {
   "cell_type": "code",
   "execution_count": null,
   "id": "16d02bd5-16ca-4beb-9776-8a65885b4be0",
   "metadata": {},
   "outputs": [],
   "source": [
    "medalsMatchesPlayersBucketed = spark.read.option(\"header\", \"true\") \\\n",
    "                        .option(\"inferSchema\", \"true\") \\\n",
    "                        .csv(\"/home/iceberg/data/medals_matches_players.csv\")\n",
    "\n",
    "spark.sql(\"\"\"DROP TABLE IF EXISTS abbad.medals_matches_players_bucketed\"\"\")\n",
    "bucketedDDL = \"\"\"\n",
    " CREATE TABLE IF NOT EXISTS abbad.medals_matches_players_bucketed (\n",
    "    match_id STRING,\n",
    "    player_gamertag STRING,\n",
    "    medal_id STRING,\n",
    "    count INTEGER\n",
    " )\n",
    " USING iceberg\n",
    " PARTITIONED BY (bucket(16, medal_id));\n",
    " \"\"\"\n",
    "spark.sql(bucketedDDL)\n",
    "\n",
    "medalsMatchesPlayersBucketed.select(\n",
    "     col(\"match_id\"), col(\"player_gamertag\"), col(\"medal_id\"), col(\"count\")\n",
    "     ).show()\n",
    "\n",
    "medalsMatchesPlayersBucketed.select(\n",
    "     col(\"match_id\"), col(\"player_gamertag\"), col(\"medal_id\"), col(\"count\")\n",
    "     ) \\\n",
    "     .write.mode(\"append\")  \\\n",
    "     .bucketBy(16, \"medal_id\").saveAsTable(\"abbad.medals_matches_players_bucketed\")"
   ]
  },
  {
   "cell_type": "code",
   "execution_count": null,
   "id": "6349c2e6-2412-4041-862c-8ec0c7951d77",
   "metadata": {},
   "outputs": [],
   "source": [
    "explicitBroadcast = medalsMatchesPlayersBucketed.alias(\"mmp\").join(broadcast(medalsBucketed).alias(\"m\"), col(\"mmp.medal_id\") == col(\"m.medal_id\")) \\\n",
    "   .select(col(\"mmp.*\"))\n",
    "\n",
    "explicitBroadcast.write.mode(\"overwrite\").insertInto(\"abbad.medals_matches_players_bucketed\")"
   ]
  },
  {
   "cell_type": "markdown",
   "id": "407238ac-9b85-4842-8034-920319956268",
   "metadata": {},
   "source": [
    "### Maps Broadcast Join"
   ]
  },
  {
   "cell_type": "code",
   "execution_count": null,
   "id": "644cde95-5831-42cc-98d7-02d11bfe6427",
   "metadata": {},
   "outputs": [],
   "source": [
    "mapsBucketed = spark.read.option(\"header\", \"true\") \\\n",
    "                        .option(\"inferSchema\", \"true\") \\\n",
    "                        .csv(\"/home/iceberg/data/maps.csv\")\n",
    "\n",
    "spark.sql(\"\"\"DROP TABLE IF EXISTS abbad.maps_bucketed\"\"\")\n",
    "bucketedDDL = \"\"\"\n",
    " CREATE TABLE IF NOT EXISTS abbad.maps_bucketed (\n",
    "    mapid STRING,\n",
    "    name STRING,\n",
    "    description STRING\n",
    " )\n",
    " USING iceberg\n",
    " PARTITIONED BY (bucket(16, mapid));\n",
    " \"\"\"\n",
    "spark.sql(bucketedDDL)\n",
    "\n",
    "mapsBucketed.select(\n",
    "     col(\"mapid\"), col(\"name\"), col(\"description\")\n",
    "     ) \\\n",
    "     .show()\n",
    "\n",
    "mapsBucketed.select(\n",
    "     col(\"mapid\"), col(\"name\"), col(\"description\")\n",
    "     ) \\\n",
    "     .write.mode(\"append\")  \\\n",
    "     .bucketBy(16, \"mapid\").saveAsTable(\"abbad.maps_bucketed\")"
   ]
  },
  {
   "cell_type": "code",
   "execution_count": null,
   "id": "277971cd-bb6f-4098-9591-98e8176fc452",
   "metadata": {},
   "outputs": [],
   "source": [
    "matchesBucketed = spark.read.option(\"header\", \"true\") \\\n",
    "                        .option(\"inferSchema\", \"true\") \\\n",
    "                        .csv(\"/home/iceberg/data/matches.csv\")\n",
    "\n",
    "spark.sql(\"\"\"DROP TABLE IF EXISTS abbad.matches_bucketed\"\"\")\n",
    "bucketedDDL = \"\"\"\n",
    " CREATE TABLE IF NOT EXISTS abbad.matches_bucketed (\n",
    "    match_id STRING,\n",
    "    mapid STRING,\n",
    "    is_team_game BOOLEAN,\n",
    "    playlist_id STRING,\n",
    "    game_variant_id STRING,\n",
    "    is_match_over BOOLEAN,\n",
    "    completion_date STRING,\n",
    "    match_duration STRING,\n",
    "    game_mode STRING,\n",
    "    map_variant_id STRING\n",
    " )\n",
    " USING iceberg\n",
    " PARTITIONED BY (completion_date, bucket(16, mapid));\n",
    " \"\"\"\n",
    "spark.sql(bucketedDDL)\n",
    "\n",
    "matchesBucketed = matchesBucketed.withColumn(\"completion_date\", date_format(col(\"completion_date\"), \"yyyy-MM\"))\n",
    "\n",
    "matchesBucketed.select(\n",
    "    col(\"match_id\"), col(\"mapid\"), col(\"is_team_game\"), col(\"playlist_id\"), col(\"game_variant_id\"),\n",
    "    col(\"is_match_over\"), col(\"completion_date\"),\n",
    "    col(\"match_duration\"), col(\"game_mode\"), col(\"map_variant_id\")\n",
    ").show()\n",
    "\n",
    "matchesBucketed.select(\n",
    "    col(\"match_id\"), col(\"mapid\"), col(\"is_team_game\"), col(\"playlist_id\"), col(\"game_variant_id\"),\n",
    "    col(\"is_match_over\"), col(\"completion_date\"),\n",
    "    col(\"match_duration\"), col(\"game_mode\"), col(\"map_variant_id\")\n",
    ") \\\n",
    "     .write.mode(\"append\")  \\\n",
    "     .partitionBy(\"completion_date\") \\\n",
    "     .bucketBy(16, \"mapid\").saveAsTable(\"abbad.matches_bucketed\")"
   ]
  },
  {
   "cell_type": "code",
   "execution_count": null,
   "id": "52cdecfa-a6e8-496d-8c9a-3c84fba0ef6f",
   "metadata": {},
   "outputs": [],
   "source": [
    "explicitBroadcast = matchesBucketed.alias(\"matches\").join(broadcast(mapsBucketed).alias(\"maps\"), col(\"matches.mapid\") == col(\"maps.mapid\")) \\\n",
    "   .select(col(\"matches.*\"))\n",
    "\n",
    "explicitBroadcast.write.mode(\"overwrite\").insertInto(\"abbad.matches_bucketed\")"
   ]
  },
  {
   "cell_type": "markdown",
   "id": "9e6db0da-63bb-4869-985d-9a451f59b941",
   "metadata": {},
   "source": [
    "# Query 3 \n",
    "\n",
    "join the `match_details`, `matches` and `medal_matches_players` using a bucket join on `match_id` with 16 buckets"
   ]
  },
  {
   "cell_type": "code",
   "execution_count": null,
   "id": "4ae369bb-d229-49ee-80c3-140d545c9437",
   "metadata": {},
   "outputs": [],
   "source": [
    "matchDetailsBucketed = spark.read.option(\"header\", \"true\") \\\n",
    "                        .option(\"inferSchema\", \"true\") \\\n",
    "                        .csv(\"/home/iceberg/data/match_details.csv\")\n",
    "\n",
    "spark.sql(\"\"\"DROP TABLE IF EXISTS abbad.match_details_bucketed\"\"\")\n",
    "bucketedDDL = \"\"\"\n",
    " CREATE TABLE IF NOT EXISTS abbad.match_details_bucketed (\n",
    "    match_id STRING,\n",
    "    player_gamertag STRING,\n",
    "    player_total_kills INTEGER\n",
    " )\n",
    " USING iceberg\n",
    " PARTITIONED BY (player_total_kills, bucket(16, match_id));\n",
    " \"\"\"\n",
    "spark.sql(bucketedDDL)\n",
    "\n",
    "matchDetailsBucketed.select(\n",
    "     col(\"match_id\"),col(\"player_gamertag\"), col(\"player_total_kills\") \\\n",
    "     ) \\\n",
    "     .show()\n",
    "\n",
    "matchDetailsBucketed.select(\n",
    "     col(\"match_id\"),col(\"player_gamertag\"), col(\"player_total_kills\") \\\n",
    "     ) \\\n",
    "     .write.mode(\"append\")  \\\n",
    "     .partitionBy(\"player_total_kills\") \\\n",
    "     .bucketBy(16, \"match_id\").saveAsTable(\"abbad.match_details_bucketed\")"
   ]
  },
  {
   "cell_type": "code",
   "execution_count": null,
   "id": "a1989092-1b5e-43c2-9438-c81c30ee1ec7",
   "metadata": {},
   "outputs": [],
   "source": [
    "joinedDF = matchDetailsBucketed.select(col(\"match_id\"), col(\"player_gamertag\"), col(\"player_total_kills\")) \\\n",
    "    .join(matchesBucketed.select(col(\"match_id\"), col(\"mapid\"), col(\"playlist_id\"), col(\"completion_date\")), \"match_id\") \\\n",
    "    .join(medalsMatchesPlayersBucketed.select(col(\"match_id\"),col(\"medal_id\"), col(\"count\")), \"match_id\")"
   ]
  },
  {
   "cell_type": "code",
   "execution_count": null,
   "id": "9c90e7dc-957d-488b-8635-376541ad5551",
   "metadata": {},
   "outputs": [],
   "source": [
    "joinedDF.show()"
   ]
  },
  {
   "cell_type": "markdown",
   "id": "517f6f03-849e-4256-b971-b79bbcc81bfe",
   "metadata": {},
   "source": [
    "# 4. Queries"
   ]
  },
  {
   "cell_type": "code",
   "execution_count": 14,
   "id": "8448ba5c-c05e-4c05-8f09-e34e38fa9497",
   "metadata": {},
   "outputs": [],
   "source": [
    "from pyspark.sql import functions as F"
   ]
  },
  {
   "cell_type": "markdown",
   "id": "569f32be-918e-4883-bd35-597e934ddff8",
   "metadata": {},
   "source": [
    "## Query 4a\n",
    "\n",
    "which player has the highest average kills per game?"
   ]
  },
  {
   "cell_type": "code",
   "execution_count": 15,
   "id": "287f26cb-e027-49c4-a437-72cec7e434b6",
   "metadata": {},
   "outputs": [
    {
     "name": "stderr",
     "output_type": "stream",
     "text": [
      "[Stage 16:>                                                         (0 + 7) / 7]\r"
     ]
    },
    {
     "name": "stdout",
     "output_type": "stream",
     "text": [
      "+---------------+-------------+\n",
      "|player_gamertag|average_kills|\n",
      "+---------------+-------------+\n",
      "|   gimpinator14|        109.0|\n",
      "+---------------+-------------+\n",
      "\n"
     ]
    },
    {
     "name": "stderr",
     "output_type": "stream",
     "text": [
      "                                                                                \r"
     ]
    }
   ],
   "source": [
    "avgKillsPerPlayer = joinedDF.groupBy(\"player_gamertag\") \\\n",
    "                            .agg(F.avg(\"player_total_kills\").alias(\"average_kills\")) \\\n",
    "                            .orderBy(F.desc(\"average_kills\")) \\\n",
    "                            .limit(1)\n",
    "\n",
    "avgKillsPerPlayer.show()"
   ]
  },
  {
   "cell_type": "markdown",
   "id": "003692b7-14dc-4469-9ab4-f058fffc20fe",
   "metadata": {},
   "source": [
    "## Query 4b\n",
    "\n",
    "which playlist has received the most plays?"
   ]
  },
  {
   "cell_type": "code",
   "execution_count": 16,
   "id": "9b8854b9-e285-499d-a8af-80ebbeb5ac7f",
   "metadata": {},
   "outputs": [
    {
     "name": "stderr",
     "output_type": "stream",
     "text": [
      "[Stage 28:======================================>                   (2 + 1) / 3]\r"
     ]
    },
    {
     "name": "stdout",
     "output_type": "stream",
     "text": [
      "+--------------------+---------------+\n",
      "|         playlist_id|number_of_plays|\n",
      "+--------------------+---------------+\n",
      "|f72e0ef0-7c4a-430...|        1565529|\n",
      "+--------------------+---------------+\n",
      "\n"
     ]
    },
    {
     "name": "stderr",
     "output_type": "stream",
     "text": [
      "                                                                                \r"
     ]
    }
   ],
   "source": [
    "mostPlayedPlaylist = joinedDF.groupBy(\"playlist_id\") \\\n",
    "                             .count() \\\n",
    "                             .withColumnRenamed(\"count\", \"number_of_plays\") \\\n",
    "                             .orderBy(F.desc(\"number_of_plays\")) \\\n",
    "                             .limit(1)\n",
    "\n",
    "mostPlayedPlaylist.show()"
   ]
  },
  {
   "cell_type": "markdown",
   "id": "dba5f7f1-840d-4f3d-b23d-4e4085470a4f",
   "metadata": {},
   "source": [
    "## Query 4c\n",
    "\n",
    "which map was played the most?"
   ]
  },
  {
   "cell_type": "code",
   "execution_count": 17,
   "id": "b302e653-8344-4c36-a33d-b51ca21bea5d",
   "metadata": {},
   "outputs": [
    {
     "name": "stderr",
     "output_type": "stream",
     "text": [
      "[Stage 36:==============================================>         (10 + 2) / 12]\r"
     ]
    },
    {
     "name": "stdout",
     "output_type": "stream",
     "text": [
      "+--------------------+---------------+\n",
      "|               mapid|number_of_plays|\n",
      "+--------------------+---------------+\n",
      "|c74c9d0f-f206-11e...|        1445545|\n",
      "+--------------------+---------------+\n",
      "\n"
     ]
    },
    {
     "name": "stderr",
     "output_type": "stream",
     "text": [
      "                                                                                \r"
     ]
    }
   ],
   "source": [
    "mostPlayedMap = joinedDF.groupBy(\"mapid\") \\\n",
    "                        .count() \\\n",
    "                        .withColumnRenamed(\"count\", \"number_of_plays\") \\\n",
    "                        .orderBy(F.desc(\"number_of_plays\")) \\\n",
    "                        .limit(1)\n",
    "\n",
    "mostPlayedMap.show()"
   ]
  },
  {
   "cell_type": "markdown",
   "id": "fbd1c2fb-2bd3-436d-b054-defa0ac92ddd",
   "metadata": {},
   "source": [
    "## Query 4d\n",
    "\n",
    "on which map do players receive the highest number of Killing Spree medals?"
   ]
  },
  {
   "cell_type": "code",
   "execution_count": 18,
   "id": "0471f959-6209-4c8b-87f3-2d5279f0ddba",
   "metadata": {},
   "outputs": [
    {
     "name": "stderr",
     "output_type": "stream",
     "text": [
      "[Stage 48:>                                                       (0 + 12) / 12]\r"
     ]
    },
    {
     "name": "stdout",
     "output_type": "stream",
     "text": [
      "+--------------------+------------------------------+\n",
      "|               mapid|number_of_killing_spree_medals|\n",
      "+--------------------+------------------------------+\n",
      "|c74c9d0f-f206-11e...|                         56908|\n",
      "+--------------------+------------------------------+\n",
      "\n"
     ]
    },
    {
     "name": "stderr",
     "output_type": "stream",
     "text": [
      "                                                                                \r"
     ]
    }
   ],
   "source": [
    "killingSpreeMedalId = \"2430242797\"\n",
    "\n",
    "mostKillingSpreeMedalsMap = joinedDF.filter(joinedDF[\"medal_id\"] == killingSpreeMedalId) \\\n",
    "                                    .groupBy(\"mapid\") \\\n",
    "                                    .count() \\\n",
    "                                    .withColumnRenamed(\"count\", \"number_of_killing_spree_medals\") \\\n",
    "                                    .orderBy(F.desc(\"number_of_killing_spree_medals\")) \\\n",
    "                                    .limit(1)\n",
    "\n",
    "mostKillingSpreeMedalsMap.show()"
   ]
  },
  {
   "cell_type": "markdown",
   "id": "a2491416-a422-4946-8651-e8662af057ad",
   "metadata": {},
   "source": [
    "# Queries 5"
   ]
  },
  {
   "cell_type": "code",
   "execution_count": 24,
   "id": "829fe512-307d-4d50-97c4-0cb818451230",
   "metadata": {},
   "outputs": [
    {
     "name": "stderr",
     "output_type": "stream",
     "text": [
      "                                                                                \r"
     ]
    }
   ],
   "source": [
    "start_df = joinedDF.repartition(4, \"playlist_id\")\n",
    "    \n",
    "\n",
    "first_sort_df = start_df.sortWithinPartitions(\"playlist_id\")\n",
    "\n",
    "sorted = joinedDF.repartition(10, \"playlist_id\") \\\n",
    "        .sortWithinPartitions(\"playlist_id\")\n",
    "\n",
    "start_df.write.mode(\"overwrite\").saveAsTable(\"abbad.playlist_unsorted\")\n",
    "first_sort_df.write.mode(\"overwrite\").saveAsTable(\"abbad.playlist_sorted\")"
   ]
  },
  {
   "cell_type": "code",
   "execution_count": 26,
   "id": "d35543b9-81f0-4e2f-af63-900b7735c311",
   "metadata": {},
   "outputs": [
    {
     "name": "stderr",
     "output_type": "stream",
     "text": [
      "                                                                                \r"
     ]
    },
    {
     "data": {
      "text/html": [
       "<table>\n",
       "    <thead>\n",
       "        <tr>\n",
       "            <th>size</th>\n",
       "            <th>num_files</th>\n",
       "            <th>sorted</th>\n",
       "        </tr>\n",
       "    </thead>\n",
       "    <tbody>\n",
       "        <tr>\n",
       "            <td>6432359</td>\n",
       "            <td>4</td>\n",
       "            <td>sorted</td>\n",
       "        </tr>\n",
       "        <tr>\n",
       "            <td>10143255</td>\n",
       "            <td>4</td>\n",
       "            <td>unsorted</td>\n",
       "        </tr>\n",
       "    </tbody>\n",
       "</table>"
      ],
      "text/plain": [
       "+----------+-----------+----------+\n",
       "|     size | num_files |   sorted |\n",
       "+----------+-----------+----------+\n",
       "|  6432359 |         4 |   sorted |\n",
       "| 10143255 |         4 | unsorted |\n",
       "+----------+-----------+----------+"
      ]
     },
     "execution_count": 26,
     "metadata": {},
     "output_type": "execute_result"
    }
   ],
   "source": [
    "%%sql\n",
    "\n",
    "SELECT SUM(file_size_in_bytes) as size, COUNT(1) as num_files, 'sorted' \n",
    "FROM abbad.playlist_unsorted.files\n",
    "\n",
    "UNION ALL\n",
    "SELECT SUM(file_size_in_bytes) as size, COUNT(1) as num_files, 'unsorted' \n",
    "FROM abbad.playlist_sorted.files\n"
   ]
  },
  {
   "cell_type": "code",
   "execution_count": 27,
   "id": "bf4ef713-b722-43a5-8259-bdd2a2eec739",
   "metadata": {},
   "outputs": [
    {
     "name": "stderr",
     "output_type": "stream",
     "text": [
      "                                                                                \r"
     ]
    }
   ],
   "source": [
    "start_df = joinedDF.repartition(4, \"playlist_id\")\n",
    "    \n",
    "\n",
    "first_sort_df = start_df.sortWithinPartitions(\"match_id\")\n",
    "\n",
    "sorted = joinedDF.repartition(10, \"playlist_id\") \\\n",
    "        .sortWithinPartitions(\"match_id\")\n",
    "\n",
    "start_df.write.mode(\"overwrite\").saveAsTable(\"abbad.playlist_unsorted\")\n",
    "first_sort_df.write.mode(\"overwrite\").saveAsTable(\"abbad.playlist_sorted\")"
   ]
  },
  {
   "cell_type": "code",
   "execution_count": 28,
   "id": "03356647-7fa2-4403-a6b4-b0e4f997ecd6",
   "metadata": {},
   "outputs": [
    {
     "name": "stderr",
     "output_type": "stream",
     "text": [
      "                                                                                \r"
     ]
    },
    {
     "data": {
      "text/html": [
       "<table>\n",
       "    <thead>\n",
       "        <tr>\n",
       "            <th>size</th>\n",
       "            <th>num_files</th>\n",
       "            <th>sorted</th>\n",
       "        </tr>\n",
       "    </thead>\n",
       "    <tbody>\n",
       "        <tr>\n",
       "            <td>6432359</td>\n",
       "            <td>4</td>\n",
       "            <td>sorted</td>\n",
       "        </tr>\n",
       "        <tr>\n",
       "            <td>6528702</td>\n",
       "            <td>4</td>\n",
       "            <td>unsorted</td>\n",
       "        </tr>\n",
       "    </tbody>\n",
       "</table>"
      ],
      "text/plain": [
       "+---------+-----------+----------+\n",
       "|    size | num_files |   sorted |\n",
       "+---------+-----------+----------+\n",
       "| 6432359 |         4 |   sorted |\n",
       "| 6528702 |         4 | unsorted |\n",
       "+---------+-----------+----------+"
      ]
     },
     "execution_count": 28,
     "metadata": {},
     "output_type": "execute_result"
    }
   ],
   "source": [
    "%%sql\n",
    "\n",
    "SELECT SUM(file_size_in_bytes) as size, COUNT(1) as num_files, 'sorted' \n",
    "FROM abbad.playlist_unsorted.files\n",
    "\n",
    "UNION ALL\n",
    "SELECT SUM(file_size_in_bytes) as size, COUNT(1) as num_files, 'unsorted' \n",
    "FROM abbad.playlist_sorted.files\n"
   ]
  },
  {
   "cell_type": "code",
   "execution_count": 29,
   "id": "f28a4e93-3d44-4f63-96dd-048252494fd6",
   "metadata": {},
   "outputs": [
    {
     "name": "stderr",
     "output_type": "stream",
     "text": [
      "                                                                                \r"
     ]
    }
   ],
   "source": [
    "start_df = joinedDF.repartition(4, \"mapid\")\n",
    "    \n",
    "\n",
    "first_sort_df = start_df.sortWithinPartitions(\"match_id\")\n",
    "\n",
    "sorted = joinedDF.repartition(10, \"mapid\") \\\n",
    "        .sortWithinPartitions(\"match_id\")\n",
    "\n",
    "start_df.write.mode(\"overwrite\").saveAsTable(\"abbad.playlist_unsorted\")\n",
    "first_sort_df.write.mode(\"overwrite\").saveAsTable(\"abbad.playlist_sorted\")"
   ]
  },
  {
   "cell_type": "code",
   "execution_count": 30,
   "id": "8632169c-fbf2-4361-8eec-ef3ff7cf75f0",
   "metadata": {},
   "outputs": [
    {
     "name": "stderr",
     "output_type": "stream",
     "text": [
      "                                                                                \r"
     ]
    },
    {
     "data": {
      "text/html": [
       "<table>\n",
       "    <thead>\n",
       "        <tr>\n",
       "            <th>size</th>\n",
       "            <th>num_files</th>\n",
       "            <th>sorted</th>\n",
       "        </tr>\n",
       "    </thead>\n",
       "    <tbody>\n",
       "        <tr>\n",
       "            <td>5117695</td>\n",
       "            <td>4</td>\n",
       "            <td>sorted</td>\n",
       "        </tr>\n",
       "        <tr>\n",
       "            <td>5034605</td>\n",
       "            <td>4</td>\n",
       "            <td>unsorted</td>\n",
       "        </tr>\n",
       "    </tbody>\n",
       "</table>"
      ],
      "text/plain": [
       "+---------+-----------+----------+\n",
       "|    size | num_files |   sorted |\n",
       "+---------+-----------+----------+\n",
       "| 5117695 |         4 |   sorted |\n",
       "| 5034605 |         4 | unsorted |\n",
       "+---------+-----------+----------+"
      ]
     },
     "execution_count": 30,
     "metadata": {},
     "output_type": "execute_result"
    }
   ],
   "source": [
    "%%sql\n",
    "\n",
    "SELECT SUM(file_size_in_bytes) as size, COUNT(1) as num_files, 'sorted' \n",
    "FROM abbad.playlist_unsorted.files\n",
    "\n",
    "UNION ALL\n",
    "SELECT SUM(file_size_in_bytes) as size, COUNT(1) as num_files, 'unsorted' \n",
    "FROM abbad.playlist_sorted.files"
   ]
  },
  {
   "cell_type": "code",
   "execution_count": 31,
   "id": "472679b6-a00e-4cdd-b96d-9cf18a0f0e18",
   "metadata": {},
   "outputs": [
    {
     "name": "stderr",
     "output_type": "stream",
     "text": [
      "                                                                                \r"
     ]
    }
   ],
   "source": [
    "start_df = joinedDF.repartition(4, \"playlist_id\", \"mapid\")\n",
    "    \n",
    "\n",
    "first_sort_df = start_df.sortWithinPartitions(\"match_id\")\n",
    "\n",
    "sorted = joinedDF.repartition(10, \"playlist_id\", \"mapid\") \\\n",
    "        .sortWithinPartitions(\"match_id\")\n",
    "\n",
    "start_df.write.mode(\"overwrite\").saveAsTable(\"abbad.playlist_unsorted\")\n",
    "first_sort_df.write.mode(\"overwrite\").saveAsTable(\"abbad.playlist_sorted\")"
   ]
  },
  {
   "cell_type": "code",
   "execution_count": 32,
   "id": "de240954-4dee-4360-838f-53316dd85808",
   "metadata": {},
   "outputs": [
    {
     "name": "stderr",
     "output_type": "stream",
     "text": [
      "                                                                                \r"
     ]
    },
    {
     "data": {
      "text/html": [
       "<table>\n",
       "    <thead>\n",
       "        <tr>\n",
       "            <th>size</th>\n",
       "            <th>num_files</th>\n",
       "            <th>sorted</th>\n",
       "        </tr>\n",
       "    </thead>\n",
       "    <tbody>\n",
       "        <tr>\n",
       "            <td>5165560</td>\n",
       "            <td>4</td>\n",
       "            <td>sorted</td>\n",
       "        </tr>\n",
       "        <tr>\n",
       "            <td>5094272</td>\n",
       "            <td>4</td>\n",
       "            <td>unsorted</td>\n",
       "        </tr>\n",
       "    </tbody>\n",
       "</table>"
      ],
      "text/plain": [
       "+---------+-----------+----------+\n",
       "|    size | num_files |   sorted |\n",
       "+---------+-----------+----------+\n",
       "| 5165560 |         4 |   sorted |\n",
       "| 5094272 |         4 | unsorted |\n",
       "+---------+-----------+----------+"
      ]
     },
     "execution_count": 32,
     "metadata": {},
     "output_type": "execute_result"
    }
   ],
   "source": [
    "%%sql\n",
    "\n",
    "SELECT SUM(file_size_in_bytes) as size, COUNT(1) as num_files, 'sorted' \n",
    "FROM abbad.playlist_unsorted.files\n",
    "\n",
    "UNION ALL\n",
    "SELECT SUM(file_size_in_bytes) as size, COUNT(1) as num_files, 'unsorted' \n",
    "FROM abbad.playlist_sorted.files"
   ]
  },
  {
   "cell_type": "code",
   "execution_count": 33,
   "id": "5cfe7f0e-03a0-4538-a383-f9c5e7a36454",
   "metadata": {},
   "outputs": [
    {
     "name": "stderr",
     "output_type": "stream",
     "text": [
      "                                                                                \r"
     ]
    }
   ],
   "source": [
    "start_df = joinedDF.repartition(4, \"completion_date\")\n",
    "    \n",
    "\n",
    "first_sort_df = start_df.sortWithinPartitions(\"match_id\")\n",
    "\n",
    "sorted = joinedDF.repartition(10, \"completion_date\") \\\n",
    "        .sortWithinPartitions(\"match_id\")\n",
    "\n",
    "start_df.write.mode(\"overwrite\").saveAsTable(\"abbad.playlist_unsorted\")\n",
    "first_sort_df.write.mode(\"overwrite\").saveAsTable(\"abbad.playlist_sorted\")"
   ]
  },
  {
   "cell_type": "code",
   "execution_count": 34,
   "id": "a1b7ae25-0031-481a-a17e-3276e121951b",
   "metadata": {},
   "outputs": [
    {
     "name": "stderr",
     "output_type": "stream",
     "text": [
      "                                                                                \r"
     ]
    },
    {
     "data": {
      "text/html": [
       "<table>\n",
       "    <thead>\n",
       "        <tr>\n",
       "            <th>size</th>\n",
       "            <th>num_files</th>\n",
       "            <th>sorted</th>\n",
       "        </tr>\n",
       "    </thead>\n",
       "    <tbody>\n",
       "        <tr>\n",
       "            <td>4607122</td>\n",
       "            <td>4</td>\n",
       "            <td>sorted</td>\n",
       "        </tr>\n",
       "        <tr>\n",
       "            <td>4677366</td>\n",
       "            <td>4</td>\n",
       "            <td>unsorted</td>\n",
       "        </tr>\n",
       "    </tbody>\n",
       "</table>"
      ],
      "text/plain": [
       "+---------+-----------+----------+\n",
       "|    size | num_files |   sorted |\n",
       "+---------+-----------+----------+\n",
       "| 4607122 |         4 |   sorted |\n",
       "| 4677366 |         4 | unsorted |\n",
       "+---------+-----------+----------+"
      ]
     },
     "execution_count": 34,
     "metadata": {},
     "output_type": "execute_result"
    }
   ],
   "source": [
    "%%sql\n",
    "\n",
    "SELECT SUM(file_size_in_bytes) as size, COUNT(1) as num_files, 'sorted' \n",
    "FROM abbad.playlist_unsorted.files\n",
    "\n",
    "UNION ALL\n",
    "SELECT SUM(file_size_in_bytes) as size, COUNT(1) as num_files, 'unsorted' \n",
    "FROM abbad.playlist_sorted.files"
   ]
  },
  {
   "cell_type": "code",
   "execution_count": 35,
   "id": "3db7f307-be46-41ef-b0e0-6de0ce9990ac",
   "metadata": {},
   "outputs": [
    {
     "name": "stderr",
     "output_type": "stream",
     "text": [
      "                                                                                \r"
     ]
    }
   ],
   "source": [
    "start_df = joinedDF.repartition(4, \"player_total_kills\")\n",
    "    \n",
    "\n",
    "first_sort_df = start_df.sortWithinPartitions(\"match_id\")\n",
    "\n",
    "sorted = joinedDF.repartition(10, \"player_total_kills\") \\\n",
    "        .sortWithinPartitions(\"match_id\")\n",
    "\n",
    "start_df.write.mode(\"overwrite\").saveAsTable(\"abbad.playlist_unsorted\")\n",
    "first_sort_df.write.mode(\"overwrite\").saveAsTable(\"abbad.playlist_sorted\")"
   ]
  },
  {
   "cell_type": "code",
   "execution_count": 36,
   "id": "2e366be7-3221-4fe8-b7b5-a87d6813be89",
   "metadata": {},
   "outputs": [
    {
     "name": "stderr",
     "output_type": "stream",
     "text": [
      "                                                                                \r"
     ]
    },
    {
     "data": {
      "text/html": [
       "<table>\n",
       "    <thead>\n",
       "        <tr>\n",
       "            <th>size</th>\n",
       "            <th>num_files</th>\n",
       "            <th>sorted</th>\n",
       "        </tr>\n",
       "    </thead>\n",
       "    <tbody>\n",
       "        <tr>\n",
       "            <td>7501382</td>\n",
       "            <td>4</td>\n",
       "            <td>sorted</td>\n",
       "        </tr>\n",
       "        <tr>\n",
       "            <td>7307947</td>\n",
       "            <td>4</td>\n",
       "            <td>unsorted</td>\n",
       "        </tr>\n",
       "    </tbody>\n",
       "</table>"
      ],
      "text/plain": [
       "+---------+-----------+----------+\n",
       "|    size | num_files |   sorted |\n",
       "+---------+-----------+----------+\n",
       "| 7501382 |         4 |   sorted |\n",
       "| 7307947 |         4 | unsorted |\n",
       "+---------+-----------+----------+"
      ]
     },
     "execution_count": 36,
     "metadata": {},
     "output_type": "execute_result"
    }
   ],
   "source": [
    "%%sql\n",
    "\n",
    "SELECT SUM(file_size_in_bytes) as size, COUNT(1) as num_files, 'sorted' \n",
    "FROM abbad.playlist_unsorted.files\n",
    "\n",
    "UNION ALL\n",
    "SELECT SUM(file_size_in_bytes) as size, COUNT(1) as num_files, 'unsorted' \n",
    "FROM abbad.playlist_sorted.files"
   ]
  }
 ],
 "metadata": {
  "kernelspec": {
   "display_name": "Python 3 (ipykernel)",
   "language": "python",
   "name": "python3"
  },
  "language_info": {
   "codemirror_mode": {
    "name": "ipython",
    "version": 3
   },
   "file_extension": ".py",
   "mimetype": "text/x-python",
   "name": "python",
   "nbconvert_exporter": "python",
   "pygments_lexer": "ipython3",
   "version": "3.9.18"
  }
 },
 "nbformat": 4,
 "nbformat_minor": 5
}
