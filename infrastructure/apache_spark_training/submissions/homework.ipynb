{
 "cells": [
  {
   "cell_type": "markdown",
   "id": "3ad63c79-0cd2-40c2-912b-92d53d756f6b",
   "metadata": {},
   "source": [
    "### Setting Up Environment"
   ]
  },
  {
   "cell_type": "code",
   "execution_count": null,
   "id": "045f8335-dcdc-494f-a083-8407a0360f8b",
   "metadata": {},
   "outputs": [],
   "source": [
    "from pyspark.sql import SparkSession\n",
    "from pyspark.sql.functions import expr, col\n",
    "spark = SparkSession.builder.appName(\"Jupyter\").getOrCreate()\n",
    "\n",
    "spark"
   ]
  },
  {
   "cell_type": "markdown",
   "id": "b0c1f205-a30c-4b91-a765-7699cb0e6d37",
   "metadata": {},
   "source": [
    "# Query 1\n",
    "\n",
    "disable the default behavior of broadcast joins"
   ]
  },
  {
   "cell_type": "code",
   "execution_count": null,
   "id": "ae8cf477-17d7-4a4b-81e8-6d4ea75ba176",
   "metadata": {},
   "outputs": [],
   "source": [
    "spark.conf.set(\"spark.sql.autoBroadcastJoinThreshold\", \"-1\")"
   ]
  },
  {
   "cell_type": "markdown",
   "id": "79b5ab83-09bd-41eb-980f-0325a28b20fb",
   "metadata": {},
   "source": [
    "# Query 2\n",
    "\n",
    "join the `medals` and `maps` tables with an explicitly specified a broadcast join"
   ]
  },
  {
   "cell_type": "code",
   "execution_count": null,
   "id": "bcd4377a-43ce-4f69-a422-d11ac15e9583",
   "metadata": {},
   "outputs": [],
   "source": [
    "from pyspark.sql.functions import broadcast, lit, col"
   ]
  },
  {
   "cell_type": "markdown",
   "id": "2218a455-c0e7-474f-a6e7-e1d83e892c1c",
   "metadata": {},
   "source": [
    "### Medals Broadcast Join"
   ]
  },
  {
   "cell_type": "code",
   "execution_count": null,
   "id": "62037dea-e731-4ac4-99f0-d4f15b359290",
   "metadata": {
    "scrolled": true
   },
   "outputs": [],
   "source": [
    "medalsBucketed = spark.read.option(\"header\", \"true\") \\\n",
    "                        .option(\"inferSchema\", \"true\") \\\n",
    "                        .csv(\"/home/iceberg/data/medals.csv\")\n",
    "\n",
    "\n",
    "spark.sql(\"\"\"DROP TABLE IF EXISTS abbad.medals_bucketed\"\"\")\n",
    "bucketedDDL = \"\"\"\n",
    " CREATE TABLE IF NOT EXISTS abbad.medals_bucketed (\n",
    "    medal_id STRING,\n",
    "     sprite_uri STRING,\n",
    "     sprite_left INTEGER,\n",
    "     sprite_top\tINTEGER,\n",
    "     sprite_sheet_width\tINTEGER,\n",
    "     sprite_sheet_height INTEGER,\n",
    "     sprite_width INTEGER,\n",
    "     sprite_height INTEGER,\n",
    "     classification\tSTRING, \n",
    "     description STRING,\t\n",
    "     name STRING,\n",
    "     difficulty INTEGER\n",
    " )\n",
    " USING iceberg\n",
    " PARTITIONED BY (difficulty, bucket(16, medal_id));\n",
    " \"\"\"\n",
    "spark.sql(bucketedDDL)\n",
    "\n",
    "medalsBucketed.select(\n",
    "     col(\"medal_id\"), col(\"classification\"), col(\"name\"), col(\"difficulty\")\n",
    "     ) \\\n",
    "     .write.mode(\"append\")  \\\n",
    "     .partitionBy(\"difficulty\") \\\n",
    "     .bucketBy(16, \"medal_id\").saveAsTable(\"abbad.medals_bucketed\")"
   ]
  },
  {
   "cell_type": "code",
   "execution_count": null,
   "id": "16d02bd5-16ca-4beb-9776-8a65885b4be0",
   "metadata": {},
   "outputs": [],
   "source": [
    "medalsMatchesPlayersBucketed = spark.read.option(\"header\", \"true\") \\\n",
    "                        .option(\"inferSchema\", \"true\") \\\n",
    "                        .csv(\"/home/iceberg/data/medals_matches_players.csv\")\n",
    "\n",
    "spark.sql(\"\"\"DROP TABLE IF EXISTS abbad.medals_matches_players_bucketed\"\"\")\n",
    "bucketedDDL = \"\"\"\n",
    " CREATE TABLE IF NOT EXISTS abbad.medals_matches_players_bucketed (\n",
    "    match_id STRING,\n",
    "    player_gamertag STRING,\n",
    "    medal_id STRING,\n",
    "    count INTEGER\n",
    " )\n",
    " USING iceberg\n",
    " PARTITIONED BY (bucket(16, medal_id));\n",
    " \"\"\"\n",
    "spark.sql(bucketedDDL)\n",
    "\n",
    "medalsMatchesPlayersBucketed.select(\n",
    "     col(\"match_id\"), col(\"player_gamertag\"), col(\"medal_id\"), col(\"count\")\n",
    "     ) \\\n",
    "     .write.mode(\"append\")  \\\n",
    "     .bucketBy(16, \"medal_id\").saveAsTable(\"abbad.medals_matches_players_bucketed\")"
   ]
  },
  {
   "cell_type": "code",
   "execution_count": null,
   "id": "6349c2e6-2412-4041-862c-8ec0c7951d77",
   "metadata": {},
   "outputs": [],
   "source": [
    "explicitBroadcast = medalsMatchesPlayersBucketed.alias(\"mmp\").join(broadcast(medalsBucketed).alias(\"m\"), col(\"mmp.medal_id\") == col(\"m.medal_id\")) \\\n",
    "   .select(col(\"mmp.*\"))\n",
    "\n",
    "explicitBroadcast.write.mode(\"overwrite\").insertInto(\"abbad.medals_matches_players_bucketed\")"
   ]
  },
  {
   "cell_type": "markdown",
   "id": "407238ac-9b85-4842-8034-920319956268",
   "metadata": {},
   "source": [
    "### Maps Broadcast Join"
   ]
  },
  {
   "cell_type": "code",
   "execution_count": null,
   "id": "644cde95-5831-42cc-98d7-02d11bfe6427",
   "metadata": {},
   "outputs": [],
   "source": [
    "mapsBucketed = spark.read.option(\"header\", \"true\") \\\n",
    "                        .option(\"inferSchema\", \"true\") \\\n",
    "                        .csv(\"/home/iceberg/data/maps.csv\")\n",
    "\n",
    "spark.sql(\"\"\"DROP TABLE IF EXISTS abbad.maps_bucketed\"\"\")\n",
    "bucketedDDL = \"\"\"\n",
    " CREATE TABLE IF NOT EXISTS abbad.maps_bucketed (\n",
    "    mapid STRING,\n",
    "    name STRING,\n",
    "    description STRING\n",
    " )\n",
    " USING iceberg\n",
    " PARTITIONED BY (name, bucket(16, mapid));\n",
    " \"\"\"\n",
    "spark.sql(bucketedDDL)\n",
    "\n",
    "mapsBucketed.select(\n",
    "     col(\"mapid\"), col(\"name\")\n",
    "     ) \\\n",
    "     .write.mode(\"append\")  \\\n",
    "     .partitionBy(\"difficulty\") \\\n",
    "     .bucketBy(16, \"mapid\").saveAsTable(\"abbad.maps_bucketed\")"
   ]
  },
  {
   "cell_type": "code",
   "execution_count": null,
   "id": "277971cd-bb6f-4098-9591-98e8176fc452",
   "metadata": {},
   "outputs": [],
   "source": [
    "matchesBucketed = spark.read.option(\"header\", \"true\") \\\n",
    "                        .option(\"inferSchema\", \"true\") \\\n",
    "                        .csv(\"/home/iceberg/data/matches.csv\")\n",
    "\n",
    "spark.sql(\"\"\"DROP TABLE IF EXISTS abbad.matches_bucketed\"\"\")\n",
    "bucketedDDL = \"\"\"\n",
    " CREATE TABLE IF NOT EXISTS abbad.matches_bucketed (\n",
    "    match_id STRING,\n",
    "    mapid STRING,\n",
    "    is_team_game BOOLEAN,\n",
    "    playlist_id STRING,\n",
    "    game_variant_id STRING,\n",
    "    is_match_over BOOLEAN,\n",
    "    completion_date TIMESTAMP,\n",
    "    match_duration STRING,\n",
    "    game_mode STRING,\n",
    "    map_variant_id STRING\n",
    " )\n",
    " USING iceberg\n",
    " PARTITIONED BY (completion_date, bucket(16, mapid));\n",
    " \"\"\"\n",
    "spark.sql(bucketedDDL)\n",
    "\n",
    "matchesBucketed.select(\n",
    "     col(\"match_id\"),col(\"mapid\"),col(\"is_team_game\"),col(\"playlist_id\"),col(\"game_variant_id\"),col(\"is_match_over\"), \\\n",
    "        col(\"completion_date\"),col(\"match_duration\"), col(\"game_mode\"),col(\"map_variant_id\") \\\n",
    "     ) \\\n",
    "     .write.mode(\"append\")  \\\n",
    "     .partitionBy(\"completion_date\") \\\n",
    "     .bucketBy(16, \"mapid\").saveAsTable(\"abbad.matches_bucketed\")"
   ]
  },
  {
   "cell_type": "code",
   "execution_count": null,
   "id": "52cdecfa-a6e8-496d-8c9a-3c84fba0ef6f",
   "metadata": {},
   "outputs": [],
   "source": [
    "explicitBroadcast = matchesBucketed.alias(\"matches\").join(broadcast(mapsBucketed).alias(\"maps\"), col(\"matches.mapid\") == col(\"maps.medal_id\")) \\\n",
    "   .select(col(\"matches.*\"))\n",
    "\n",
    "explicitBroadcast.write.mode(\"overwrite\").insertInto(\"abbad.matches_bucketed\")"
   ]
  },
  {
   "cell_type": "markdown",
   "id": "9e6db0da-63bb-4869-985d-9a451f59b941",
   "metadata": {},
   "source": [
    "# Query 3 \n",
    "\n",
    "join the `match_details`, `matches` and `medal_matches_players` using a bucket join on `match_id` with 16 buckets"
   ]
  },
  {
   "cell_type": "code",
   "execution_count": null,
   "id": "4ae369bb-d229-49ee-80c3-140d545c9437",
   "metadata": {},
   "outputs": [],
   "source": [
    "matchDetailsBucketed = spark.read.option(\"header\", \"true\") \\\n",
    "                        .option(\"inferSchema\", \"true\") \\\n",
    "                        .csv(\"/home/iceberg/data/match_details.csv\")\n",
    "\n",
    "spark.sql(\"\"\"DROP TABLE IF EXISTS abbad.match_details_bucketed\"\"\")\n",
    "bucketedDDL = \"\"\"\n",
    " CREATE TABLE IF NOT EXISTS abbad.match_details_bucketed (\n",
    "    match_id STRING,\n",
    "    player_gamertag STRING,\n",
    "    player_total_kills INTEGER\n",
    " )\n",
    " USING iceberg\n",
    " PARTITIONED BY (player_total_kills, bucket(16, match_id));\n",
    " \"\"\"\n",
    "spark.sql(bucketedDDL)\n",
    "\n",
    "matchDetailsBucketed.select(\n",
    "     col(\"match_id\"),col(\"player_gamertag\"), col(\"player_total_kills\"), col(\"playlist_id\") \\\n",
    "     ) \\\n",
    "     .write.mode(\"append\")  \\\n",
    "     .partitionBy(\"player_total_kills\") \\\n",
    "     .bucketBy(16, \"match_id\").saveAsTable(\"abbad.match_details_bucketed\")"
   ]
  },
  {
   "cell_type": "code",
   "execution_count": null,
   "id": "43669746-65fc-4c1a-866a-4a2d1f5d680d",
   "metadata": {},
   "outputs": [],
   "source": [
    "matchDetailsBucketed.write.format(\"parquet\").bucketBy(16, \"match_id\").sortBy(\"match_id\") \\\n",
    "            .saveAsTable(\"match_details_bucketed\")\n",
    "\n",
    "matchesBucketed.write.format(\"parquet\").bucketBy(16, \"match_id\").sortBy(\"match_id\") \\\n",
    "            .saveAsTable(\"matches_bucketed\")\n",
    "\n",
    "medalsMatchesPlayersBucketed.write.format(\"parquet\").bucketBy(16, \"match_id\").sortBy(\"match_id\") \\\n",
    "            .saveAsTable(\"medals_matches_players_bucketed\")"
   ]
  },
  {
   "cell_type": "code",
   "execution_count": null,
   "id": "cc841d3f-8cdb-43f3-aa9f-0db8e1d84d0c",
   "metadata": {},
   "outputs": [],
   "source": [
    "bucketedMatchDetails = spark.table(\"match_details_bucketed\")\n",
    "bucketedMatches = spark.table(\"matches_bucketed\")\n",
    "bucketedMedalsMatchesPlayers = spark.table(\"medals_matches_players_bucketed\")"
   ]
  },
  {
   "cell_type": "code",
   "execution_count": null,
   "id": "e0f14fee-839e-43f9-af02-4da047216043",
   "metadata": {},
   "outputs": [],
   "source": [
    "joinedDF = bucketedMatchDetails.join(bucketedMatches, \"match_id\") \\\n",
    "                               .join(bucketedMedalsMatchesPlayers, \"match_id\")"
   ]
  },
  {
   "cell_type": "markdown",
   "id": "517f6f03-849e-4256-b971-b79bbcc81bfe",
   "metadata": {},
   "source": [
    "# 4. Queries"
   ]
  },
  {
   "cell_type": "code",
   "execution_count": null,
   "id": "8448ba5c-c05e-4c05-8f09-e34e38fa9497",
   "metadata": {},
   "outputs": [],
   "source": [
    "from pyspark.sql import functions as F"
   ]
  },
  {
   "cell_type": "markdown",
   "id": "569f32be-918e-4883-bd35-597e934ddff8",
   "metadata": {},
   "source": [
    "## Query 4a\n",
    "\n",
    "which player has the highest average kills per game?"
   ]
  },
  {
   "cell_type": "code",
   "execution_count": null,
   "id": "287f26cb-e027-49c4-a437-72cec7e434b6",
   "metadata": {},
   "outputs": [],
   "source": [
    "avgKillsPerPlayer = joinedDF.groupBy(\"player_gamertag\") \\\n",
    "                            .agg(F.avg(\"player_total_kills\").alias(\"average_kills\")) \\\n",
    "                            .orderBy(F.desc(\"average_kills\")) \\\n",
    "                            .limit(1)\n",
    "\n",
    "avgKillsPerPlayer.show()"
   ]
  },
  {
   "cell_type": "markdown",
   "id": "003692b7-14dc-4469-9ab4-f058fffc20fe",
   "metadata": {},
   "source": [
    "## Query 4b\n",
    "\n",
    "which playlist has received the most plays?"
   ]
  },
  {
   "cell_type": "code",
   "execution_count": null,
   "id": "9b8854b9-e285-499d-a8af-80ebbeb5ac7f",
   "metadata": {},
   "outputs": [],
   "source": [
    "mostPlayedPlaylist = joinedDF.groupBy(\"playlist_id\") \\\n",
    "                             .count() \\\n",
    "                             .withColumnRenamed(\"count\", \"number_of_plays\") \\\n",
    "                             .orderBy(F.desc(\"number_of_plays\")) \\\n",
    "                             .limit(1)\n",
    "\n",
    "mostPlayedPlaylist.show()"
   ]
  },
  {
   "cell_type": "markdown",
   "id": "dba5f7f1-840d-4f3d-b23d-4e4085470a4f",
   "metadata": {},
   "source": [
    "## Query 4c\n",
    "\n",
    "which map was played the most?"
   ]
  },
  {
   "cell_type": "code",
   "execution_count": null,
   "id": "b302e653-8344-4c36-a33d-b51ca21bea5d",
   "metadata": {},
   "outputs": [],
   "source": [
    "mostPlayedMap = joinedDF.groupBy(\"mapid\") \\\n",
    "                        .count() \\\n",
    "                        .withColumnRenamed(\"count\", \"number_of_plays\") \\\n",
    "                        .orderBy(F.desc(\"number_of_plays\")) \\\n",
    "                        .limit(1)\n",
    "\n",
    "mostPlayedMap.show()"
   ]
  },
  {
   "cell_type": "markdown",
   "id": "fbd1c2fb-2bd3-436d-b054-defa0ac92ddd",
   "metadata": {},
   "source": [
    "## Query 4d\n",
    "\n",
    "on which map do players receive the highest number of Killing Spree medals?"
   ]
  },
  {
   "cell_type": "code",
   "execution_count": null,
   "id": "0471f959-6209-4c8b-87f3-2d5279f0ddba",
   "metadata": {},
   "outputs": [],
   "source": [
    "killingSpreeMedalId = \"2430242797\"\n",
    "\n",
    "mostKillingSpreeMedalsMap = joinedDF.filter(joinedDF[\"medal_id\"] == killingSpreeMedalId) \\\n",
    "                                    .groupBy(\"mapid\") \\\n",
    "                                    .count() \\\n",
    "                                    .withColumnRenamed(\"count\", \"number_of_killing_spree_medals\") \\\n",
    "                                    .orderBy(F.desc(\"number_of_killing_spree_medals\")) \\\n",
    "                                    .limit(1)\n",
    "\n",
    "mostKillingSpreeMedalsMap.show()"
   ]
  },
  {
   "cell_type": "markdown",
   "id": "a2491416-a422-4946-8651-e8662af057ad",
   "metadata": {},
   "source": [
    "# Queries 5\n",
    "\n",
    "try at least 3 different versions of partitioned tables, and use .sortWithinPartitions to get the smallest footprint possible (hint: playlists and maps are both very low cardinality)"
   ]
  },
  {
   "cell_type": "code",
   "execution_count": null,
   "id": "4756f3b8-2334-4f9f-8fe5-0b40483f9a18",
   "metadata": {},
   "outputs": [],
   "source": [
    "partitionedByPlaylist = joinedDF.repartition(\"playlist_id\").sortWithinPartitions(\"match_id\")\n",
    "\n",
    "partitionedByPlaylist.explain()"
   ]
  },
  {
   "cell_type": "code",
   "execution_count": null,
   "id": "e9269b3c-4c96-46c1-8816-6e2062116b12",
   "metadata": {},
   "outputs": [],
   "source": [
    "partitionedByMap = joinedDF.repartition(\"mapid\").sortWithinPartitions(\"match_id\")\n",
    "\n",
    "partitionedByMap.explain()"
   ]
  },
  {
   "cell_type": "code",
   "execution_count": null,
   "id": "ec25ef15-3e1a-433c-b7de-3ec8ebe71e60",
   "metadata": {},
   "outputs": [],
   "source": [
    "partitionedByPlaylistAndMap = joinedDF.repartition(\"playlist_id\", \"mapid\").sortWithinPartitions(\"match_id\")\n",
    "\n",
    "partitionedByPlaylistAndMap.explain()"
   ]
  },
  {
   "cell_type": "code",
   "execution_count": null,
   "id": "514f713a-3900-41b2-80a7-6f7fdd3c205d",
   "metadata": {},
   "outputs": [],
   "source": [
    "partitionedByCompletionDate = joinedDF.repartition(\"completion_date\").sortWithinPartitions(\"match_id\")\n",
    "\n",
    "partitionedByCompletionDate.explain()"
   ]
  },
  {
   "cell_type": "code",
   "execution_count": null,
   "id": "0991d527-2bd6-4a6e-b682-97db77eec7bc",
   "metadata": {},
   "outputs": [],
   "source": [
    "partitionedByPlayerKills = joinedDF.repartition(\"player_total_kills\").sortWithinPartitions(\"match_id\")\n",
    "\n",
    "partitionedByPlayerKills.explain()"
   ]
  }
 ],
 "metadata": {
  "kernelspec": {
   "display_name": "Python 3 (ipykernel)",
   "language": "python",
   "name": "python3"
  },
  "language_info": {
   "codemirror_mode": {
    "name": "ipython",
    "version": 3
   },
   "file_extension": ".py",
   "mimetype": "text/x-python",
   "name": "python",
   "nbconvert_exporter": "python",
   "pygments_lexer": "ipython3",
   "version": "3.9.18"
  }
 },
 "nbformat": 4,
 "nbformat_minor": 5
}
